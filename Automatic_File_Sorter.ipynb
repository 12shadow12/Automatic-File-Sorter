{
 "cells": [
  {
   "cell_type": "markdown",
   "id": "3bfaedaf-efb6-47ba-a310-df8da4054c63",
   "metadata": {},
   "source": [
    "# **Automatic File Sorter in File Explorer**"
   ]
  },
  {
   "cell_type": "code",
   "execution_count": 86,
   "id": "4cb8c99a-27d4-4a3d-81d5-128ad7e41214",
   "metadata": {},
   "outputs": [],
   "source": [
    "import os, shutil"
   ]
  },
  {
   "cell_type": "code",
   "execution_count": 88,
   "id": "5b398707-a875-4725-935d-a6f7005cf9a9",
   "metadata": {},
   "outputs": [],
   "source": [
    "path = r\"C:/Users\\rbui5/OneDrive/Documents/automatic_sort_files/\""
   ]
  },
  {
   "cell_type": "code",
   "execution_count": 90,
   "id": "129fd9fa-8264-466b-9ab3-60d2c6f94a11",
   "metadata": {},
   "outputs": [],
   "source": [
    "file_name = os.listdir(path)"
   ]
  },
  {
   "cell_type": "code",
   "execution_count": 107,
   "id": "33ebd9f2-0fb6-4154-b25d-647d49026dbc",
   "metadata": {},
   "outputs": [
    {
     "name": "stdout",
     "output_type": "stream",
     "text": [
      "C:/Users\\rbui5/OneDrive/Documents/automatic_sort_files/csv files\n",
      "C:/Users\\rbui5/OneDrive/Documents/automatic_sort_files/image files\n",
      "C:/Users\\rbui5/OneDrive/Documents/automatic_sort_files/text files\n"
     ]
    }
   ],
   "source": [
    "folder_names = ['csv files', 'image files', 'text files']\n",
    "for i in range(len(folder_names)):\n",
    "    print(path + folder_names[i])\n",
    "    if not os.path.exists(path + folder_names[i]):\n",
    "        os.makedirs(path + folder_names[i])"
   ]
  },
  {
   "cell_type": "code",
   "execution_count": 94,
   "id": "f09d13e1-90cb-41d8-a137-40cfb08cd58a",
   "metadata": {},
   "outputs": [
    {
     "name": "stdout",
     "output_type": "stream",
     "text": [
      "['csv files', 'FakeTextFile.txt', 'image files', 'ogp.png', 'Sales.csv', 'text files']\n"
     ]
    }
   ],
   "source": [
    "print(file_name)"
   ]
  },
  {
   "cell_type": "code",
   "execution_count": 129,
   "id": "ab13451f-c27a-4845-908a-5b3a4e1fb942",
   "metadata": {},
   "outputs": [],
   "source": [
    "for file in file_name:\n",
    "    if \".csv\" in file and not os.path.exists(path + 'csv files/' + file):\n",
    "        shutil.move(path + file, path + \"csv files/\" + file)\n",
    "    elif \".png\" in file and not os.path.exists(path + 'image files/' + file):\n",
    "        shutil.move(path + file, path + \"image files/\" + file)\n",
    "    elif \".txt\" in file and not os.path.exists(path + 'text files/' + file):\n",
    "        shutil.move(path + file, path + \"text files/\" + file)\n",
    "        "
   ]
  },
  {
   "cell_type": "code",
   "execution_count": null,
   "id": "e65a7a72-5801-480a-948c-9244d5e550ed",
   "metadata": {},
   "outputs": [],
   "source": []
  },
  {
   "cell_type": "code",
   "execution_count": null,
   "id": "2a0e3e75-ddee-4303-98ce-a4479d812686",
   "metadata": {},
   "outputs": [],
   "source": []
  }
 ],
 "metadata": {
  "kernelspec": {
   "display_name": "Python 3 (ipykernel)",
   "language": "python",
   "name": "python3"
  },
  "language_info": {
   "codemirror_mode": {
    "name": "ipython",
    "version": 3
   },
   "file_extension": ".py",
   "mimetype": "text/x-python",
   "name": "python",
   "nbconvert_exporter": "python",
   "pygments_lexer": "ipython3",
   "version": "3.12.4"
  }
 },
 "nbformat": 4,
 "nbformat_minor": 5
}
